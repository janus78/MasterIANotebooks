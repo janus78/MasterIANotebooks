{
 "cells": [
  {
   "cell_type": "markdown",
   "metadata": {
    "collapsed": true,
    "pycharm": {
     "name": "#%% md\n"
    }
   },
   "source": [
    "# **Actividad 8 Parte 2**\n",
    "\n",
    "## Instrucciones\n",
    "\n",
    "* Importa la librería Pandas a tu proyecto.\n",
    "* Genera un diccionario con al menos 10 elementos, donde las estructuras llave-valor correspondan a diferentes ciudades de México con su respectiva densidad de población (ejemplo: Guadalajara: 1,521,741).\n",
    "* Genera una Series a partir del diccionario anterior.\n",
    "* Incluye tres nuevos índices dentro de la Series, correspondientes a otras ciudades de México, y verifica que Pandas autocompletó los campos con los valores “NaN” para mantener el ajuste del arreglo.\n",
    "* Finalmente, elige alguna de las herramientas de visualización vistas en clase y realiza la gráfica de los datos."
   ]
  }
 ],
 "metadata": {
  "kernelspec": {
   "display_name": "Python 3",
   "language": "python",
   "name": "python3"
  },
  "language_info": {
   "codemirror_mode": {
    "name": "ipython",
    "version": 2
   },
   "file_extension": ".py",
   "mimetype": "text/x-python",
   "name": "python",
   "nbconvert_exporter": "python",
   "pygments_lexer": "ipython2",
   "version": "2.7.6"
  }
 },
 "nbformat": 4,
 "nbformat_minor": 0
}