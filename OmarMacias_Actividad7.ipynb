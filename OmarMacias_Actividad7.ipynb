{
 "cells": [
  {
   "cell_type": "markdown",
   "source": [
    "# **Actividad 7**\n",
    "\n",
    "**Instrucciones**\n",
    "\n",
    "* Codifica una función que reciba una lista como argumento y que genere un diccionario como salida.\n",
    "* El diccionario generado debe tener las siguientes llaves (claves): nombre, apellido y edad.\n",
    "* Genera la lista de entrada con valores ficticios de posibles personas reales.\n",
    "* Ejecuta el programa tres veces con valores diferentes y almacena todos los resultados en la estructura de datos más adecuada para la situación planteada.\n",
    "* Escribe el diccionario del ejercicio anterior en un archivo CSV o JSON.\n",
    "* Usando alguna de las funciones de lectura de Python, despliega el contenido de lo anterior.\n",
    "* Por medio de la clase persona, modela la información del ejercicio anterior y crea una instancia que contenga tu nombre, apellido y edad como atributos."
   ],
   "metadata": {
    "collapsed": false
   }
  },
  {
   "cell_type": "code",
   "execution_count": null,
   "outputs": [],
   "source": [
    "class Persona:\n",
    "    def __init__(self, nombre, apellido, edad):\n",
    "        self.nombre = nombre\n",
    "        self.apellido = apellido\n",
    "        self.edad = edad\n",
    "\n",
    "def regresa_diccionario(lista):\n",
    "    \"\"\"Función que regresa un diccionario basado en la lista que recibe\"\"\"\n",
    "    diccionario = {}\n",
    "    for i in lista:\n",
    "        diccionario[i[0]] = {'apellido': i[1], 'edad': i[2]}\n",
    "    return diccionario\n",
    "\n",
    "\n",
    "def guarda_diccionario(diccionario):\n",
    "    \"\"\"Función que guarda un diccionario en un archivo con formato csv\"\"\"\n",
    "    with open('dicc_act_7.csv', 'wt') as archivo:\n",
    "        archivo.write('Nombre,Apellido,Edad\\n')\n",
    "        for i in diccionario:\n",
    "            archivo.write(i + ',' + diccionario[i]['apellido'] + ',' + str(diccionario[i]['edad']) + '\\n')\n",
    "\n",
    "\n",
    "def desplegar_diccionario():\n",
    "    \"\"\"Función que despliega el contenido del archivo csv\"\"\"\n",
    "    with open('dicc_act_7.csv', 'rt') as archivo:\n",
    "        for linea in archivo:\n",
    "            print(linea, end='')\n",
    "\n",
    "\n",
    "soy_yo = Persona('Omar', 'Macías', 42)\n",
    "\n",
    "lista = [('José', 'García', 32), ('Juan', 'Pérez', 28), ('Pedro', 'Gómez', 22)]\n",
    "diccionario_resultante = regresa_diccionario(lista)\n",
    "lista = [('Andrea', 'López', 25), ('María', 'Gómez', 22), ('Juan', 'Hernández', 40)]\n",
    "diccionario_resultante.update(regresa_diccionario(lista))\n",
    "lista = [('Monica', 'González', 25), ('Antonio', 'Macías', 17), ('Paloma', 'Zárate', 30)]\n",
    "diccionario_resultante.update(regresa_diccionario(lista))\n",
    "guarda_diccionario(diccionario_resultante)\n",
    "desplegar_diccionario()\n",
    "print(f\"\\nMi nombre es: {soy_yo.nombre}\\nApellido: {soy_yo.apellido}\\nEdad: {soy_yo.edad}\")\n"
   ],
   "metadata": {
    "collapsed": false,
    "pycharm": {
     "name": "#%%\n"
    }
   }
  }
 ],
 "metadata": {
  "kernelspec": {
   "display_name": "Python 3",
   "language": "python",
   "name": "python3"
  },
  "language_info": {
   "codemirror_mode": {
    "name": "ipython",
    "version": 2
   },
   "file_extension": ".py",
   "mimetype": "text/x-python",
   "name": "python",
   "nbconvert_exporter": "python",
   "pygments_lexer": "ipython2",
   "version": "2.7.6"
  }
 },
 "nbformat": 4,
 "nbformat_minor": 0
}