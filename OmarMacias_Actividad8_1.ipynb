{
 "cells": [
  {
   "cell_type": "markdown",
   "metadata": {
    "collapsed": true,
    "pycharm": {
     "name": "#%% md\n"
    }
   },
   "source": [
    "# **Actividad 8 Parte 1**\n",
    "\n",
    "## Instrucciones\n",
    "* Genera un nuevo Notebook en Jupyter y realiza las siguientes operaciones:\n",
    "\n",
    "+ Importa la librería NumPy a tu proyecto.\n",
    "Genera un ndarray de 50 elementos.\n",
    "\n",
    "* Realiza la siguiente operación aritmética con cada uno de los valores del ndarray (donde x es el valor del elemento):\n",
    "\n",
    "\n",
    "\\begin{equation*}\n",
    "x^2 + 2x + 1\n",
    "\\end{equation*}\n",
    "\n",
    "* Guarda el resultado de la operación anterior en un archivo dentro de tu computadora con el nombre “ejercicio_numpy.npy”."
   ]
  },
  {
   "cell_type": "code",
   "execution_count": null,
   "outputs": [],
   "source": [
    "import numpy as np\n",
    "\n",
    "#generando ndarray de 50 elementos\n",
    "array_50 = np.arange(51)\n",
    "resultado_ecuacion = np.fromiter((x**2 + 2*x + 1 for x in array_50), dtype=int)\n",
    "np.save(\"ejercicio_numpy\", resultado_ecuacion)\n",
    "# prueba del archivo guardado\n",
    "# load_numpy = np.load(\"ejercicio_numpy.npy\")\n",
    "# for valor in load_numpy:\n",
    "#    print(valor)"
   ],
   "metadata": {
    "collapsed": false,
    "pycharm": {
     "name": "#%%\n"
    }
   }
  }
 ],
 "metadata": {
  "kernelspec": {
   "display_name": "Python 3",
   "language": "python",
   "name": "python3"
  },
  "language_info": {
   "codemirror_mode": {
    "name": "ipython",
    "version": 2
   },
   "file_extension": ".py",
   "mimetype": "text/x-python",
   "name": "python",
   "nbconvert_exporter": "python",
   "pygments_lexer": "ipython2",
   "version": "2.7.6"
  }
 },
 "nbformat": 4,
 "nbformat_minor": 0
}