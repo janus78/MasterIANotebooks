{
 "nbformat": 4,
 "nbformat_minor": 0,
 "metadata": {
  "interpreter": {
   "hash": "95abfde4973d5f4e9ae57ab8b1b57c9aabc0ff9d6f594a99a54d15243305f55e"
  },
  "kernelspec": {
   "name": "python3",
   "language": "python",
   "display_name": "Python 3 (ipykernel)"
  },
  "language_info": {
   "codemirror_mode": {
    "name": "ipython",
    "version": 3
   },
   "file_extension": ".py",
   "mimetype": "text/x-python",
   "name": "python",
   "nbconvert_exporter": "python",
   "pygments_lexer": "ipython3",
   "version": "3.9.5"
  },
  "orig_nbformat": 4,
  "colab": {
   "name": "OmarMacias-Actividad6.ipynb",
   "provenance": []
  }
 },
 "cells": [
  {
   "cell_type": "markdown",
   "metadata": {
    "id": "HU-KBhGybrKU"
   },
   "source": [
    "# **Parte 1**\n",
    "\n",
    "* Lista de 5 elementos agregando uno nuevo al final, manejo de lista\n",
    "\n",
    "\n"
   ]
  },
  {
   "cell_type": "code",
   "metadata": {
    "id": "979eBpNrbrKY"
   },
   "source": [
    "nueva_lista = [\"primero\", \"segundo\", \"tercero\", \"cuarto\", \"quinto\"]\n",
    "print(f\"Lista inicial:\\n{nueva_lista}\")\n",
    "nueva_lista.append(\"sexto\")\n",
    "print(f\"Lista con el elemento 'sexto' agregado:\\n{nueva_lista}\")"
   ],
   "execution_count": null,
   "outputs": []
  },
  {
   "cell_type": "markdown",
   "metadata": {
    "id": "A2YmN0IcbrKa"
   },
   "source": [
    "* Manejo de cadena de caracteres"
   ]
  },
  {
   "cell_type": "code",
   "metadata": {
    "id": "qSY6WQYZbrKa"
   },
   "source": [
    "cadena_inicial = \"Soy una cadena\"\n",
    "total_caracteres = len(cadena_inicial)\n",
    "print(f\"El total de caracteres en la cadena es: {total_caracteres}\")\n",
    "cadena_mayuscula = cadena_inicial.upper()\n",
    "print(f\"La cadena en mayúsculas es: {cadena_mayuscula}\")"
   ],
   "execution_count": null,
   "outputs": []
  },
  {
   "cell_type": "markdown",
   "metadata": {
    "id": "mnwg1QyMbrKa"
   },
   "source": [
    "* Manejo de diccionario"
   ]
  },
  {
   "cell_type": "code",
   "metadata": {
    "id": "y3hi_Dc9brKb"
   },
   "source": [
    "nuevo_diccionario = {\"a\": \"Elemento1\", \"b\": \"Elemento2\", \"c\": \"Elemento3\", \"d\": \"Elemento4\"}\n",
    "print(f\"Diccionario inicial:\")\n",
    "for indice, valor in nuevo_diccionario.items():\n",
    "    print(f\"Indice: {indice} - Valor: {valor}\")\n",
    "nuevo_diccionario[\"e\"] = \"Elemento5\"\n",
    "print(f\"\\nDiccionario con el elemento 'e' agregado:\")\n",
    "for indice,valor in nuevo_diccionario.items():\n",
    "    print(f\"Indice: {indice} - Valor: {valor}\")\n",
    "del nuevo_diccionario[\"c\"]\n",
    "print(f\"\\nTotal de items en el diccionario después de borrar 'c': {len(nuevo_diccionario)}\")\n",
    "print(f\"\\nDiccionario con el elemento 'c' eliminado:\")\n",
    "for indice,valor in nuevo_diccionario.items():\n",
    "    print(f\"Indice: {indice} - Valor: {valor}\")"
   ],
   "execution_count": null,
   "outputs": []
  },
  {
   "cell_type": "markdown",
   "metadata": {
    "id": "H7SDWqThca1-"
   },
   "source": [
    ""
   ]
  },
  {
   "cell_type": "markdown",
   "metadata": {
    "id": "AZ1vBoNpbrKb"
   },
   "source": [
    "# **Parte 2**\n",
    "\n",
    "**Problema elegido:**\n",
    "\n",
    "**a.** Una sala de cine cobra diferentes precios de entrada según la edad de la persona. Si una persona es menor de 3 años, la entrada es gratuita; si tienen entre 3 y 12, el boleto es de \\$10, y si son mayores de 12 años, el boleto cuesta \\$15. Escribe un bucle en el que se solicite a los usuarios su edad y despliegue el costo de la entrada."
   ]
  },
  {
   "cell_type": "code",
   "metadata": {
    "id": "JLMsWSDibrKc"
   },
   "source": [
    "salir = False\n",
    "costo_entrada = 0\n",
    "\n",
    "while not salir:\n",
    "    edad = int(input(\"Ingrese su edad: \"))\n",
    "    if edad > 3 and edad < 12:\n",
    "        costo_entrada = 10\n",
    "    elif edad >= 12:\n",
    "        costo_entrada = 15\n",
    "    else:\n",
    "        print(\"La entrada es gratuita.\")\n",
    "    print(f\"El costo de la entrada es: {costo_entrada}\")\n",
    "    respuesta_salir = input(\"¿Desea salir? (s/n): \").upper()\n",
    "    if respuesta_salir == \"S\":\n",
    "        salir = True"
   ],
   "execution_count": null,
   "outputs": []
  }
 ]
}