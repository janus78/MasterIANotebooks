{
 "cells": [
  {
   "cell_type": "markdown",
   "metadata": {
    "collapsed": true,
    "pycharm": {
     "name": "#%% md\n"
    }
   },
   "source": [
    "# **Evidencia 2**\n",
    "\n",
    "La función $e^x$ tiene aplicaciones en diversas ramas de la ciencia, una de ellas el cálculo del crecimiento exponencial de una población, donde la ecuación que describe dicho fenómeno está dada por:\n",
    "\n",
    "$N(t) = N_0e^{rt}$\n",
    "\n",
    "Donde $N_t$ es el número total de la población después de que han transcurrido $t$ años, mientras que la tasa de crecimiento relativa y la población inicial son las constantes $r$ y $N_0$ , respectivamente.\n",
    "\n",
    "1. Crea un nuevo Notebook de Jupyter e importa las librerías de Numpy y Matplotlib, y realiza lo siguiente:\n",
    "Por medio de la función *exp()* de Numpy, crea un arreglo que contenga todos los valores de N cuando el tiempo va desde 0 hasta 100 años a intervalos de una décima parte, es decir, *t = np.arange(0, 100, 0.1)*. Considera que r = 0.25 y No = 1.\n",
    "Imprime los valores de los arreglos de N y t; también imprime el tamaño de cada uno.\n",
    "\n",
    "2. Realiza la gráfica del arreglo N utilizando Matplotlip.\n",
    "Guarda tus resultados en un archivo separado por comas (CSV).\n",
    "3. Importa la librería pandas a tu trabajo y lee el archivo que contiene los valores de N y t para guardarlo en estructuras de pandas.\n",
    "4. Imprime las estructuras de pandas que creaste y comprueba haber obtenido los siguientes resultados para cada estructura:"
   ]
  },
  {
   "cell_type": "code",
   "execution_count": null,
   "outputs": [],
   "source": [
    "#Imports necesarios para los procesos\n",
    "import numpy as np\n",
    "import pandas as pd\n",
    "import matplotlib.pyplot as plt"
   ],
   "metadata": {
    "collapsed": false,
    "pycharm": {
     "name": "#%%\n"
    }
   }
  },
  {
   "cell_type": "markdown",
   "source": [
    "- Generación de arreglos con valores requeridos."
   ],
   "metadata": {
    "collapsed": false
   }
  },
  {
   "cell_type": "code",
   "execution_count": null,
   "outputs": [],
   "source": [
    "#Generacion de arreglos con los valores adecuados\n",
    "t = np.arange(0, 100, 0.1)\n",
    "print(f\"Tamaño del arreglo t: {len(t)}. Contenido del arreglo\\n{t}\\n\")\n"
   ],
   "metadata": {
    "collapsed": false,
    "pycharm": {
     "name": "#%%\n"
    }
   }
  },
  {
   "cell_type": "markdown",
   "source": [
    "- Generación del arreglo implementanto la función exponencial."
   ],
   "metadata": {
    "collapsed": false
   }
  },
  {
   "cell_type": "code",
   "execution_count": null,
   "outputs": [],
   "source": [
    "exponente = t*0.25\n",
    "\n",
    "arreglo_exponencial = np.exp(exponente)*1\n",
    "print(f\"Tamaño del arreglo N: {len(arreglo_exponencial)}. Contenido del arreglo\\n{arreglo_exponencial}\")"
   ],
   "metadata": {
    "collapsed": false,
    "pycharm": {
     "name": "#%%\n"
    }
   }
  },
  {
   "cell_type": "markdown",
   "source": [
    "- Guardando en csv."
   ],
   "metadata": {
    "collapsed": false
   }
  },
  {
   "cell_type": "code",
   "execution_count": null,
   "outputs": [],
   "source": [
    "#Guardado del resultado en un archivo csv\n",
    "dataframe_final = {\n",
    "    \"Años\": t,\n",
    "    \"Crecimiento\": arreglo_exponencial\n",
    "}\n",
    "datos_exportar = pd.DataFrame(data=dataframe_final)\n",
    "datos_exportar.index.name = \"Registro\"\n",
    "datos_exportar.to_csv(\"crecimiento_poblacional.csv\")"
   ],
   "metadata": {
    "collapsed": false,
    "pycharm": {
     "name": "#%%\n"
    }
   }
  },
  {
   "cell_type": "markdown",
   "source": [
    "- Creando el gráfico"
   ],
   "metadata": {
    "collapsed": false
   }
  },
  {
   "cell_type": "code",
   "execution_count": null,
   "outputs": [],
   "source": [
    "#Creación de gráfico\n",
    "datos_exportar.plot(kind=\"line\", x=\"Años\", y=\"Crecimiento\")\n",
    "plt.show()"
   ],
   "metadata": {
    "collapsed": false,
    "pycharm": {
     "name": "#%%\n"
    }
   }
  },
  {
   "cell_type": "markdown",
   "source": [
    "- Leer el archivo con pandas y mostrar el contenido."
   ],
   "metadata": {
    "collapsed": false
   }
  },
  {
   "cell_type": "code",
   "execution_count": null,
   "outputs": [],
   "source": [
    "#Leer archivo con pandas e imprimir dataset\n",
    "archivo_pd = pd.read_csv(\"crecimiento_poblacional.csv\")\n",
    "print(f\"{archivo_pd['Crecimiento']}\\n\")\n",
    "print(archivo_pd[\"Años\"])"
   ],
   "metadata": {
    "collapsed": false,
    "pycharm": {
     "name": "#%%\n"
    }
   }
  }
 ],
 "metadata": {
  "kernelspec": {
   "display_name": "Python 3",
   "language": "python",
   "name": "python3"
  },
  "language_info": {
   "codemirror_mode": {
    "name": "ipython",
    "version": 2
   },
   "file_extension": ".py",
   "mimetype": "text/x-python",
   "name": "python",
   "nbconvert_exporter": "python",
   "pygments_lexer": "ipython2",
   "version": "2.7.6"
  }
 },
 "nbformat": 4,
 "nbformat_minor": 0
}