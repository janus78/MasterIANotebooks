{
 "cells": [
  {
   "cell_type": "markdown",
   "metadata": {
    "collapsed": true,
    "pycharm": {
     "name": "#%% md\n"
    }
   },
   "source": [
    "# **Evidencia 2**\n",
    "\n",
    "La función $e^x$ tiene aplicaciones en diversas ramas de la ciencia, una de ellas el cálculo del crecimiento exponencial de una población, donde la ecuación que describe dicho fenómeno está dada por:\n",
    "\n",
    "$N(t) = N_0e^{rt}$\n",
    "\n",
    "Donde $N_t$ es el número total de la población después de que han transcurrido $t$ años, mientras que la tasa de crecimiento relativa y la población inicial son las constantes $r$ y $N_0$ , respectivamente.\n",
    "\n",
    "1. Crea un nuevo Notebook de Jupyter e importa las librerías de Numpy y Matplotlib, y realiza lo siguiente:\n",
    "Por medio de la función *exp()* de Numpy, crea un arreglo que contenga todos los valores de N cuando el tiempo va desde 0 hasta 100 años a intervalos de una décima parte, es decir, *t = np.arange(0, 100, 0.1)*. Considera que r = 0.25 y No = 1.\n",
    "Imprime los valores de los arreglos de N y t; también imprime el tamaño de cada uno.\n",
    "\n",
    "2. Realiza la gráfica del arreglo N utilizando Matplotlip.\n",
    "Guarda tus resultados en un archivo separado por comas (CSV).\n",
    "3. Importa la librería pandas a tu trabajo y lee el archivo que contiene los valores de N y t para guardarlo en estructuras de pandas.\n",
    "4. Imprime las estructuras de pandas que creaste y comprueba haber obtenido los siguientes resultados para cada estructura:"
   ]
  },
  {
   "cell_type": "code",
   "execution_count": 27,
   "outputs": [
    {
     "name": "stdout",
     "output_type": "stream",
     "text": [
      "0      1.000000e+00\n",
      "1      1.025315e+00\n",
      "2      1.051271e+00\n",
      "3      1.077884e+00\n",
      "4      1.105171e+00\n",
      "           ...     \n",
      "995    6.354410e+10\n",
      "996    6.515273e+10\n",
      "997    6.680208e+10\n",
      "998    6.849318e+10\n",
      "999    7.022709e+10\n",
      "Name: Crecimiento, Length: 1000, dtype: float64\n",
      "0       0.0\n",
      "1       0.1\n",
      "2       0.2\n",
      "3       0.3\n",
      "4       0.4\n",
      "       ... \n",
      "995    99.5\n",
      "996    99.6\n",
      "997    99.7\n",
      "998    99.8\n",
      "999    99.9\n",
      "Name: Años, Length: 1000, dtype: float64\n"
     ]
    }
   ],
   "source": [
    "#Imports necesarios para los procesos\n",
    "import numpy as np\n",
    "import pandas as pd\n",
    "import matplotlib.pyplot as plt\n",
    "\n",
    "#Leer archivo con pandas e imprimir dataset\n",
    "archivo_pd = pd.read_csv(\"crecimiento_poblacional.csv\")\n",
    "print(archivo_pd[\"Crecimiento\"])\n",
    "print(archivo_pd[\"Años\"])\n"
   ],
   "metadata": {
    "collapsed": false,
    "pycharm": {
     "name": "#%%\n"
    }
   }
  },
  {
   "cell_type": "markdown",
   "source": [
    "- Generación de arreglos con valores requeridos."
   ],
   "metadata": {
    "collapsed": false
   }
  },
  {
   "cell_type": "code",
   "execution_count": 28,
   "outputs": [
    {
     "name": "stdout",
     "output_type": "stream",
     "text": [
      "Tamaño del arreglo t: 1000. Contenido del arreglo\n",
      "[ 0.   0.1  0.2  0.3  0.4  0.5  0.6  0.7  0.8  0.9  1.   1.1  1.2  1.3\n",
      "  1.4  1.5  1.6  1.7  1.8  1.9  2.   2.1  2.2  2.3  2.4  2.5  2.6  2.7\n",
      "  2.8  2.9  3.   3.1  3.2  3.3  3.4  3.5  3.6  3.7  3.8  3.9  4.   4.1\n",
      "  4.2  4.3  4.4  4.5  4.6  4.7  4.8  4.9  5.   5.1  5.2  5.3  5.4  5.5\n",
      "  5.6  5.7  5.8  5.9  6.   6.1  6.2  6.3  6.4  6.5  6.6  6.7  6.8  6.9\n",
      "  7.   7.1  7.2  7.3  7.4  7.5  7.6  7.7  7.8  7.9  8.   8.1  8.2  8.3\n",
      "  8.4  8.5  8.6  8.7  8.8  8.9  9.   9.1  9.2  9.3  9.4  9.5  9.6  9.7\n",
      "  9.8  9.9 10.  10.1 10.2 10.3 10.4 10.5 10.6 10.7 10.8 10.9 11.  11.1\n",
      " 11.2 11.3 11.4 11.5 11.6 11.7 11.8 11.9 12.  12.1 12.2 12.3 12.4 12.5\n",
      " 12.6 12.7 12.8 12.9 13.  13.1 13.2 13.3 13.4 13.5 13.6 13.7 13.8 13.9\n",
      " 14.  14.1 14.2 14.3 14.4 14.5 14.6 14.7 14.8 14.9 15.  15.1 15.2 15.3\n",
      " 15.4 15.5 15.6 15.7 15.8 15.9 16.  16.1 16.2 16.3 16.4 16.5 16.6 16.7\n",
      " 16.8 16.9 17.  17.1 17.2 17.3 17.4 17.5 17.6 17.7 17.8 17.9 18.  18.1\n",
      " 18.2 18.3 18.4 18.5 18.6 18.7 18.8 18.9 19.  19.1 19.2 19.3 19.4 19.5\n",
      " 19.6 19.7 19.8 19.9 20.  20.1 20.2 20.3 20.4 20.5 20.6 20.7 20.8 20.9\n",
      " 21.  21.1 21.2 21.3 21.4 21.5 21.6 21.7 21.8 21.9 22.  22.1 22.2 22.3\n",
      " 22.4 22.5 22.6 22.7 22.8 22.9 23.  23.1 23.2 23.3 23.4 23.5 23.6 23.7\n",
      " 23.8 23.9 24.  24.1 24.2 24.3 24.4 24.5 24.6 24.7 24.8 24.9 25.  25.1\n",
      " 25.2 25.3 25.4 25.5 25.6 25.7 25.8 25.9 26.  26.1 26.2 26.3 26.4 26.5\n",
      " 26.6 26.7 26.8 26.9 27.  27.1 27.2 27.3 27.4 27.5 27.6 27.7 27.8 27.9\n",
      " 28.  28.1 28.2 28.3 28.4 28.5 28.6 28.7 28.8 28.9 29.  29.1 29.2 29.3\n",
      " 29.4 29.5 29.6 29.7 29.8 29.9 30.  30.1 30.2 30.3 30.4 30.5 30.6 30.7\n",
      " 30.8 30.9 31.  31.1 31.2 31.3 31.4 31.5 31.6 31.7 31.8 31.9 32.  32.1\n",
      " 32.2 32.3 32.4 32.5 32.6 32.7 32.8 32.9 33.  33.1 33.2 33.3 33.4 33.5\n",
      " 33.6 33.7 33.8 33.9 34.  34.1 34.2 34.3 34.4 34.5 34.6 34.7 34.8 34.9\n",
      " 35.  35.1 35.2 35.3 35.4 35.5 35.6 35.7 35.8 35.9 36.  36.1 36.2 36.3\n",
      " 36.4 36.5 36.6 36.7 36.8 36.9 37.  37.1 37.2 37.3 37.4 37.5 37.6 37.7\n",
      " 37.8 37.9 38.  38.1 38.2 38.3 38.4 38.5 38.6 38.7 38.8 38.9 39.  39.1\n",
      " 39.2 39.3 39.4 39.5 39.6 39.7 39.8 39.9 40.  40.1 40.2 40.3 40.4 40.5\n",
      " 40.6 40.7 40.8 40.9 41.  41.1 41.2 41.3 41.4 41.5 41.6 41.7 41.8 41.9\n",
      " 42.  42.1 42.2 42.3 42.4 42.5 42.6 42.7 42.8 42.9 43.  43.1 43.2 43.3\n",
      " 43.4 43.5 43.6 43.7 43.8 43.9 44.  44.1 44.2 44.3 44.4 44.5 44.6 44.7\n",
      " 44.8 44.9 45.  45.1 45.2 45.3 45.4 45.5 45.6 45.7 45.8 45.9 46.  46.1\n",
      " 46.2 46.3 46.4 46.5 46.6 46.7 46.8 46.9 47.  47.1 47.2 47.3 47.4 47.5\n",
      " 47.6 47.7 47.8 47.9 48.  48.1 48.2 48.3 48.4 48.5 48.6 48.7 48.8 48.9\n",
      " 49.  49.1 49.2 49.3 49.4 49.5 49.6 49.7 49.8 49.9 50.  50.1 50.2 50.3\n",
      " 50.4 50.5 50.6 50.7 50.8 50.9 51.  51.1 51.2 51.3 51.4 51.5 51.6 51.7\n",
      " 51.8 51.9 52.  52.1 52.2 52.3 52.4 52.5 52.6 52.7 52.8 52.9 53.  53.1\n",
      " 53.2 53.3 53.4 53.5 53.6 53.7 53.8 53.9 54.  54.1 54.2 54.3 54.4 54.5\n",
      " 54.6 54.7 54.8 54.9 55.  55.1 55.2 55.3 55.4 55.5 55.6 55.7 55.8 55.9\n",
      " 56.  56.1 56.2 56.3 56.4 56.5 56.6 56.7 56.8 56.9 57.  57.1 57.2 57.3\n",
      " 57.4 57.5 57.6 57.7 57.8 57.9 58.  58.1 58.2 58.3 58.4 58.5 58.6 58.7\n",
      " 58.8 58.9 59.  59.1 59.2 59.3 59.4 59.5 59.6 59.7 59.8 59.9 60.  60.1\n",
      " 60.2 60.3 60.4 60.5 60.6 60.7 60.8 60.9 61.  61.1 61.2 61.3 61.4 61.5\n",
      " 61.6 61.7 61.8 61.9 62.  62.1 62.2 62.3 62.4 62.5 62.6 62.7 62.8 62.9\n",
      " 63.  63.1 63.2 63.3 63.4 63.5 63.6 63.7 63.8 63.9 64.  64.1 64.2 64.3\n",
      " 64.4 64.5 64.6 64.7 64.8 64.9 65.  65.1 65.2 65.3 65.4 65.5 65.6 65.7\n",
      " 65.8 65.9 66.  66.1 66.2 66.3 66.4 66.5 66.6 66.7 66.8 66.9 67.  67.1\n",
      " 67.2 67.3 67.4 67.5 67.6 67.7 67.8 67.9 68.  68.1 68.2 68.3 68.4 68.5\n",
      " 68.6 68.7 68.8 68.9 69.  69.1 69.2 69.3 69.4 69.5 69.6 69.7 69.8 69.9\n",
      " 70.  70.1 70.2 70.3 70.4 70.5 70.6 70.7 70.8 70.9 71.  71.1 71.2 71.3\n",
      " 71.4 71.5 71.6 71.7 71.8 71.9 72.  72.1 72.2 72.3 72.4 72.5 72.6 72.7\n",
      " 72.8 72.9 73.  73.1 73.2 73.3 73.4 73.5 73.6 73.7 73.8 73.9 74.  74.1\n",
      " 74.2 74.3 74.4 74.5 74.6 74.7 74.8 74.9 75.  75.1 75.2 75.3 75.4 75.5\n",
      " 75.6 75.7 75.8 75.9 76.  76.1 76.2 76.3 76.4 76.5 76.6 76.7 76.8 76.9\n",
      " 77.  77.1 77.2 77.3 77.4 77.5 77.6 77.7 77.8 77.9 78.  78.1 78.2 78.3\n",
      " 78.4 78.5 78.6 78.7 78.8 78.9 79.  79.1 79.2 79.3 79.4 79.5 79.6 79.7\n",
      " 79.8 79.9 80.  80.1 80.2 80.3 80.4 80.5 80.6 80.7 80.8 80.9 81.  81.1\n",
      " 81.2 81.3 81.4 81.5 81.6 81.7 81.8 81.9 82.  82.1 82.2 82.3 82.4 82.5\n",
      " 82.6 82.7 82.8 82.9 83.  83.1 83.2 83.3 83.4 83.5 83.6 83.7 83.8 83.9\n",
      " 84.  84.1 84.2 84.3 84.4 84.5 84.6 84.7 84.8 84.9 85.  85.1 85.2 85.3\n",
      " 85.4 85.5 85.6 85.7 85.8 85.9 86.  86.1 86.2 86.3 86.4 86.5 86.6 86.7\n",
      " 86.8 86.9 87.  87.1 87.2 87.3 87.4 87.5 87.6 87.7 87.8 87.9 88.  88.1\n",
      " 88.2 88.3 88.4 88.5 88.6 88.7 88.8 88.9 89.  89.1 89.2 89.3 89.4 89.5\n",
      " 89.6 89.7 89.8 89.9 90.  90.1 90.2 90.3 90.4 90.5 90.6 90.7 90.8 90.9\n",
      " 91.  91.1 91.2 91.3 91.4 91.5 91.6 91.7 91.8 91.9 92.  92.1 92.2 92.3\n",
      " 92.4 92.5 92.6 92.7 92.8 92.9 93.  93.1 93.2 93.3 93.4 93.5 93.6 93.7\n",
      " 93.8 93.9 94.  94.1 94.2 94.3 94.4 94.5 94.6 94.7 94.8 94.9 95.  95.1\n",
      " 95.2 95.3 95.4 95.5 95.6 95.7 95.8 95.9 96.  96.1 96.2 96.3 96.4 96.5\n",
      " 96.6 96.7 96.8 96.9 97.  97.1 97.2 97.3 97.4 97.5 97.6 97.7 97.8 97.9\n",
      " 98.  98.1 98.2 98.3 98.4 98.5 98.6 98.7 98.8 98.9 99.  99.1 99.2 99.3\n",
      " 99.4 99.5 99.6 99.7 99.8 99.9]\n",
      "\n"
     ]
    }
   ],
   "source": [
    "#Generacion de arreglos con los valores adecuados\n",
    "t = np.arange(0, 100, 0.1)\n",
    "print(f\"Tamaño del arreglo t: {len(t)}. Contenido del arreglo\\n{t}\\n\")\n"
   ],
   "metadata": {
    "collapsed": false,
    "pycharm": {
     "name": "#%%\n"
    }
   }
  },
  {
   "cell_type": "markdown",
   "source": [
    "- Generación del arreglo implementanto la función exponencial."
   ],
   "metadata": {
    "collapsed": false
   }
  },
  {
   "cell_type": "code",
   "execution_count": 29,
   "outputs": [
    {
     "name": "stdout",
     "output_type": "stream",
     "text": [
      "Tamaño del arreglo N: 1000. Contenido del arreglo\n",
      "[1.00000000e+00 1.02531512e+00 1.05127110e+00 1.07788415e+00\n",
      " 1.10517092e+00 1.13314845e+00 1.16183424e+00 1.19124622e+00\n",
      " 1.22140276e+00 1.25232272e+00 1.28402542e+00 1.31653067e+00\n",
      " 1.34985881e+00 1.38403065e+00 1.41906755e+00 1.45499141e+00\n",
      " 1.49182470e+00 1.52959042e+00 1.56831219e+00 1.60801420e+00\n",
      " 1.64872127e+00 1.69045885e+00 1.73325302e+00 1.77713053e+00\n",
      " 1.82211880e+00 1.86824596e+00 1.91554083e+00 1.96403298e+00\n",
      " 2.01375271e+00 2.06473110e+00 2.11700002e+00 2.17059213e+00\n",
      " 2.22554093e+00 2.28188077e+00 2.33964685e+00 2.39887529e+00\n",
      " 2.45960311e+00 2.52186826e+00 2.58570966e+00 2.65116721e+00\n",
      " 2.71828183e+00 2.78709546e+00 2.85765112e+00 2.92999290e+00\n",
      " 3.00416602e+00 3.08021685e+00 3.15819291e+00 3.23814294e+00\n",
      " 3.32011692e+00 3.40416608e+00 3.49034296e+00 3.57870141e+00\n",
      " 3.66929667e+00 3.76218535e+00 3.85742553e+00 3.95507672e+00\n",
      " 4.05519997e+00 4.15785784e+00 4.26311452e+00 4.37103577e+00\n",
      " 4.48168907e+00 4.59514357e+00 4.71147018e+00 4.83074162e+00\n",
      " 4.95303242e+00 5.07841904e+00 5.20697983e+00 5.33879515e+00\n",
      " 5.47394739e+00 5.61252103e+00 5.75460268e+00 5.90028114e+00\n",
      " 6.04964746e+00 6.20279502e+00 6.35981952e+00 6.52081912e+00\n",
      " 6.68589444e+00 6.85514867e+00 7.02868758e+00 7.20661965e+00\n",
      " 7.38905610e+00 7.57611094e+00 7.76790111e+00 7.96454646e+00\n",
      " 8.16616991e+00 8.37289749e+00 8.58485840e+00 8.80218512e+00\n",
      " 9.02501350e+00 9.25348280e+00 9.48773584e+00 9.72791901e+00\n",
      " 9.97418245e+00 1.02266801e+01 1.04855697e+01 1.07510132e+01\n",
      " 1.10231764e+01 1.13022294e+01 1.15883467e+01 1.18817071e+01\n",
      " 1.21824940e+01 1.24908953e+01 1.28071038e+01 1.31313172e+01\n",
      " 1.34637380e+01 1.38045742e+01 1.41540386e+01 1.45123498e+01\n",
      " 1.48797317e+01 1.52564139e+01 1.56426319e+01 1.60386270e+01\n",
      " 1.64446468e+01 1.68609450e+01 1.72877818e+01 1.77254241e+01\n",
      " 1.81741454e+01 1.86342260e+01 1.91059537e+01 1.95896232e+01\n",
      " 2.00855369e+01 2.05940047e+01 2.11153444e+01 2.16498819e+01\n",
      " 2.21979513e+01 2.27598951e+01 2.33360646e+01 2.39268199e+01\n",
      " 2.45325302e+01 2.51535742e+01 2.57903399e+01 2.64432255e+01\n",
      " 2.71126389e+01 2.77989986e+01 2.85027336e+01 2.92242838e+01\n",
      " 2.99641000e+01 3.07226449e+01 3.15003923e+01 3.22978285e+01\n",
      " 3.31154520e+01 3.39537736e+01 3.48133175e+01 3.56946208e+01\n",
      " 3.65982344e+01 3.75247232e+01 3.84746660e+01 3.94486569e+01\n",
      " 4.04473044e+01 4.14712327e+01 4.25210820e+01 4.35975083e+01\n",
      " 4.47011845e+01 4.58328004e+01 4.69930632e+01 4.81826983e+01\n",
      " 4.94024491e+01 5.06530781e+01 5.19353668e+01 5.32501169e+01\n",
      " 5.45981500e+01 5.59803088e+01 5.73974570e+01 5.88504806e+01\n",
      " 6.03402876e+01 6.18678093e+01 6.34340003e+01 6.50398397e+01\n",
      " 6.66863310e+01 6.83745035e+01 7.01054123e+01 7.18801393e+01\n",
      " 7.36997937e+01 7.55655129e+01 7.74784629e+01 7.94398396e+01\n",
      " 8.14508687e+01 8.35128072e+01 8.56269440e+01 8.77946004e+01\n",
      " 9.00171313e+01 9.22959258e+01 9.46324083e+01 9.70280391e+01\n",
      " 9.94843156e+01 1.02002773e+02 1.04584986e+02 1.07232567e+02\n",
      " 1.09947172e+02 1.12730498e+02 1.15584285e+02 1.18510315e+02\n",
      " 1.21510418e+02 1.24586468e+02 1.27740390e+02 1.30974153e+02\n",
      " 1.34289780e+02 1.37689342e+02 1.41174964e+02 1.44748825e+02\n",
      " 1.48413159e+02 1.52170256e+02 1.56022464e+02 1.59972192e+02\n",
      " 1.64021907e+02 1.68174142e+02 1.72431490e+02 1.76796614e+02\n",
      " 1.81272242e+02 1.85861171e+02 1.90566268e+02 1.95390477e+02\n",
      " 2.00336810e+02 2.05408360e+02 2.10608298e+02 2.15939872e+02\n",
      " 2.21406416e+02 2.27011346e+02 2.32758166e+02 2.38650467e+02\n",
      " 2.44691932e+02 2.50886338e+02 2.57237556e+02 2.63749556e+02\n",
      " 2.70426407e+02 2.77272285e+02 2.84291466e+02 2.91488339e+02\n",
      " 2.98867401e+02 3.06433265e+02 3.14190660e+02 3.22144435e+02\n",
      " 3.30299560e+02 3.38661133e+02 3.47234380e+02 3.56024661e+02\n",
      " 3.65037468e+02 3.74278435e+02 3.83753339e+02 3.93468101e+02\n",
      " 4.03428793e+02 4.13641642e+02 4.24113030e+02 4.34849503e+02\n",
      " 4.45857770e+02 4.57144713e+02 4.68717387e+02 4.80583024e+02\n",
      " 4.92749041e+02 5.05223042e+02 5.18012825e+02 5.31126382e+02\n",
      " 5.44571910e+02 5.58357814e+02 5.72492709e+02 5.86985431e+02\n",
      " 6.01845038e+02 6.17080818e+02 6.32702293e+02 6.48719228e+02\n",
      " 6.65141633e+02 6.81979774e+02 6.99244174e+02 7.16945624e+02\n",
      " 7.35095189e+02 7.53704213e+02 7.72784326e+02 7.92347454e+02\n",
      " 8.12405825e+02 8.32971977e+02 8.54058763e+02 8.75679363e+02\n",
      " 8.97847292e+02 9.20576404e+02 9.43880907e+02 9.67775366e+02\n",
      " 9.92274716e+02 1.01739427e+03 1.04314973e+03 1.06955719e+03\n",
      " 1.09663316e+03 1.12439456e+03 1.15285874e+03 1.18204350e+03\n",
      " 1.21196707e+03 1.24264817e+03 1.27410596e+03 1.30636010e+03\n",
      " 1.33943076e+03 1.37333862e+03 1.40810485e+03 1.44375119e+03\n",
      " 1.48029993e+03 1.51777390e+03 1.55619653e+03 1.59559183e+03\n",
      " 1.63598443e+03 1.67739957e+03 1.71986315e+03 1.76340169e+03\n",
      " 1.80804241e+03 1.85381323e+03 1.90074273e+03 1.94886026e+03\n",
      " 1.99819590e+03 2.04878047e+03 2.10064559e+03 2.15382369e+03\n",
      " 2.20834799e+03 2.26425259e+03 2.32157241e+03 2.38034330e+03\n",
      " 2.44060198e+03 2.50238611e+03 2.56573432e+03 2.63068619e+03\n",
      " 2.69728233e+03 2.76556436e+03 2.83557495e+03 2.90735787e+03\n",
      " 2.98095799e+03 3.05642130e+03 3.13379497e+03 3.21312737e+03\n",
      " 3.29446808e+03 3.37786793e+03 3.46337907e+03 3.55105492e+03\n",
      " 3.64095031e+03 3.73312140e+03 3.82762582e+03 3.92452263e+03\n",
      " 4.02387239e+03 4.12573721e+03 4.23018074e+03 4.33726828e+03\n",
      " 4.44706675e+03 4.55964478e+03 4.67507274e+03 4.79342277e+03\n",
      " 4.91476884e+03 5.03918681e+03 5.16675443e+03 5.29755144e+03\n",
      " 5.43165959e+03 5.56916271e+03 5.71014673e+03 5.85469979e+03\n",
      " 6.00291222e+03 6.15487666e+03 6.31068811e+03 6.47044394e+03\n",
      " 6.63424401e+03 6.80219069e+03 6.97438897e+03 7.15094647e+03\n",
      " 7.33197354e+03 7.51758333e+03 7.70789186e+03 7.90301807e+03\n",
      " 8.10308393e+03 8.30821447e+03 8.51853792e+03 8.73418574e+03\n",
      " 8.95529270e+03 9.18199702e+03 9.41444038e+03 9.65276807e+03\n",
      " 9.89712906e+03 1.01476761e+04 1.04045657e+04 1.06679586e+04\n",
      " 1.09380192e+04 1.12149165e+04 1.14988234e+04 1.17899175e+04\n",
      " 1.20883807e+04 1.23943995e+04 1.27081653e+04 1.30298740e+04\n",
      " 1.33597268e+04 1.36979299e+04 1.40446947e+04 1.44002378e+04\n",
      " 1.47647816e+04 1.51385538e+04 1.55217881e+04 1.59147240e+04\n",
      " 1.63176072e+04 1.67306894e+04 1.71542288e+04 1.75884902e+04\n",
      " 1.80337449e+04 1.84902714e+04 1.89583548e+04 1.94382878e+04\n",
      " 1.99303704e+04 2.04349102e+04 2.09522224e+04 2.14826304e+04\n",
      " 2.20264658e+04 2.25840684e+04 2.31557868e+04 2.37419784e+04\n",
      " 2.43430094e+04 2.49592556e+04 2.55911022e+04 2.62389440e+04\n",
      " 2.69031861e+04 2.75842435e+04 2.82825419e+04 2.89985179e+04\n",
      " 2.97326189e+04 3.04853037e+04 3.12570428e+04 3.20483186e+04\n",
      " 3.28596257e+04 3.36914711e+04 3.45443747e+04 3.54188697e+04\n",
      " 3.63155027e+04 3.72348340e+04 3.81774383e+04 3.91439048e+04\n",
      " 4.01348374e+04 4.11508557e+04 4.21925945e+04 4.32607052e+04\n",
      " 4.43558551e+04 4.54787289e+04 4.66300285e+04 4.78104732e+04\n",
      " 4.90208011e+04 5.02617686e+04 5.15341514e+04 5.28387446e+04\n",
      " 5.41763638e+04 5.55478450e+04 5.69540454e+04 5.83958439e+04\n",
      " 5.98741417e+04 6.13898628e+04 6.29439546e+04 6.45373884e+04\n",
      " 6.61711602e+04 6.78462911e+04 6.95638281e+04 7.13248448e+04\n",
      " 7.31304418e+04 7.49817478e+04 7.68799198e+04 7.88261442e+04\n",
      " 8.08216375e+04 8.28676470e+04 8.49654515e+04 8.71163622e+04\n",
      " 8.93217234e+04 9.15829136e+04 9.39013460e+04 9.62784699e+04\n",
      " 9.87157710e+04 1.01214773e+05 1.03777037e+05 1.06404165e+05\n",
      " 1.09097799e+05 1.11859623e+05 1.14691363e+05 1.17594789e+05\n",
      " 1.20571715e+05 1.23624002e+05 1.26753559e+05 1.29962341e+05\n",
      " 1.33252353e+05 1.36625652e+05 1.40084347e+05 1.43630599e+05\n",
      " 1.47266625e+05 1.50994698e+05 1.54817147e+05 1.58736361e+05\n",
      " 1.62754791e+05 1.66874949e+05 1.71099408e+05 1.75430810e+05\n",
      " 1.79871862e+05 1.84425340e+05 1.89094090e+05 1.93881030e+05\n",
      " 1.98789151e+05 2.03821522e+05 2.08981289e+05 2.14271675e+05\n",
      " 2.19695989e+05 2.25257619e+05 2.30960043e+05 2.36806824e+05\n",
      " 2.42801617e+05 2.48948170e+05 2.55250323e+05 2.61712015e+05\n",
      " 2.68337287e+05 2.75130277e+05 2.82095233e+05 2.89236508e+05\n",
      " 2.96558565e+05 3.04065981e+05 3.11763448e+05 3.19655777e+05\n",
      " 3.27747902e+05 3.36044880e+05 3.44551896e+05 3.53274269e+05\n",
      " 3.62217450e+05 3.71387028e+05 3.80788735e+05 3.90428448e+05\n",
      " 4.00312191e+05 4.10446143e+05 4.20836636e+05 4.31490166e+05\n",
      " 4.42413392e+05 4.53613140e+05 4.65096412e+05 4.76870383e+05\n",
      " 4.88942415e+05 5.01320051e+05 5.14011028e+05 5.27023279e+05\n",
      " 5.40364937e+05 5.54044341e+05 5.68070040e+05 5.82450802e+05\n",
      " 5.97195614e+05 6.12313693e+05 6.27814488e+05 6.43707687e+05\n",
      " 6.60003225e+05 6.76711286e+05 6.93842314e+05 7.11407016e+05\n",
      " 7.29416370e+05 7.47881633e+05 7.66814347e+05 7.86226344e+05\n",
      " 8.06129759e+05 8.26537031e+05 8.47460916e+05 8.68914491e+05\n",
      " 8.90911166e+05 9.13464690e+05 9.36589158e+05 9.60299026e+05\n",
      " 9.84609111e+05 1.00953461e+06 1.03509110e+06 1.06129456e+06\n",
      " 1.08816136e+06 1.11570829e+06 1.14395258e+06 1.17291188e+06\n",
      " 1.20260428e+06 1.23304836e+06 1.26426312e+06 1.29626810e+06\n",
      " 1.32908328e+06 1.36272918e+06 1.39722684e+06 1.43259780e+06\n",
      " 1.46886419e+06 1.50604866e+06 1.54417447e+06 1.58326543e+06\n",
      " 1.62334599e+06 1.66444118e+06 1.70657671e+06 1.74977891e+06\n",
      " 1.79407477e+06 1.83949199e+06 1.88605895e+06 1.93380476e+06\n",
      " 1.98275926e+06 2.03295305e+06 2.08441750e+06 2.13718479e+06\n",
      " 2.19128788e+06 2.24676059e+06 2.30363761e+06 2.36195447e+06\n",
      " 2.42174763e+06 2.48305447e+06 2.54591329e+06 2.61036339e+06\n",
      " 2.67644506e+06 2.74419958e+06 2.81366933e+06 2.88489771e+06\n",
      " 2.95792924e+06 3.03280957e+06 3.10958551e+06 3.18830505e+06\n",
      " 3.26901737e+06 3.35177294e+06 3.43662348e+06 3.52362201e+06\n",
      " 3.61282293e+06 3.70428198e+06 3.79805632e+06 3.89420458e+06\n",
      " 3.99278684e+06 4.09386472e+06 4.19750139e+06 4.30376165e+06\n",
      " 4.41271189e+06 4.52442023e+06 4.63895647e+06 4.75639221e+06\n",
      " 4.87680085e+06 5.00025765e+06 5.12683978e+06 5.25662635e+06\n",
      " 5.38969848e+06 5.52613934e+06 5.66603423e+06 5.80947057e+06\n",
      " 5.95653801e+06 6.10732849e+06 6.26193625e+06 6.42045792e+06\n",
      " 6.58299258e+06 6.74964184e+06 6.92050983e+06 7.09570337e+06\n",
      " 7.27533196e+06 7.45950786e+06 7.64834620e+06 7.84196501e+06\n",
      " 8.04048530e+06 8.24403115e+06 8.45272980e+06 8.66671167e+06\n",
      " 8.88611052e+06 9.11106348e+06 9.34171115e+06 9.57819769e+06\n",
      " 9.82067092e+06 1.00692824e+07 1.03241875e+07 1.05855455e+07\n",
      " 1.08535199e+07 1.11282781e+07 1.14099918e+07 1.16988371e+07\n",
      " 1.19949946e+07 1.22986493e+07 1.26099911e+07 1.29292145e+07\n",
      " 1.32565191e+07 1.35921095e+07 1.39361954e+07 1.42889919e+07\n",
      " 1.46507194e+07 1.50216042e+07 1.54018779e+07 1.57917783e+07\n",
      " 1.61915490e+07 1.66014401e+07 1.70217075e+07 1.74526141e+07\n",
      " 1.78944291e+07 1.83474287e+07 1.88118961e+07 1.92881215e+07\n",
      " 1.97764027e+07 2.02770447e+07 2.07903605e+07 2.13166710e+07\n",
      " 2.18563051e+07 2.24096001e+07 2.29769018e+07 2.35585648e+07\n",
      " 2.41549528e+07 2.47664383e+07 2.53934037e+07 2.60362407e+07\n",
      " 2.66953513e+07 2.73711473e+07 2.80640512e+07 2.87744961e+07\n",
      " 2.95029259e+07 3.02497960e+07 3.10155733e+07 3.18007363e+07\n",
      " 3.26057757e+07 3.34311949e+07 3.42775096e+07 3.51452489e+07\n",
      " 3.60349551e+07 3.69471843e+07 3.78825067e+07 3.88415070e+07\n",
      " 3.98247844e+07 4.08329536e+07 4.18666448e+07 4.29265039e+07\n",
      " 4.40131935e+07 4.51273928e+07 4.62697982e+07 4.74411237e+07\n",
      " 4.86421015e+07 4.98734822e+07 5.11360354e+07 5.24305503e+07\n",
      " 5.37578360e+07 5.51187221e+07 5.65140592e+07 5.79447194e+07\n",
      " 5.94115969e+07 6.09156087e+07 6.24576947e+07 6.40388187e+07\n",
      " 6.56599691e+07 6.73221592e+07 6.90264277e+07 7.07738401e+07\n",
      " 7.25654884e+07 7.44024925e+07 7.62860005e+07 7.82171898e+07\n",
      " 8.01972674e+07 8.22274709e+07 8.43090692e+07 8.64433635e+07\n",
      " 8.86316876e+07 9.08754095e+07 9.31759314e+07 9.55346914e+07\n",
      " 9.79531636e+07 1.00432860e+08 1.02975330e+08 1.05582163e+08\n",
      " 1.08254988e+08 1.10995476e+08 1.13805340e+08 1.16686336e+08\n",
      " 1.19640264e+08 1.22668972e+08 1.25774352e+08 1.28958345e+08\n",
      " 1.32222941e+08 1.35570180e+08 1.39002156e+08 1.42521012e+08\n",
      " 1.46128949e+08 1.49828221e+08 1.53621140e+08 1.57510078e+08\n",
      " 1.61497464e+08 1.65585792e+08 1.69777616e+08 1.74075557e+08\n",
      " 1.78482301e+08 1.83000602e+08 1.87633284e+08 1.92383243e+08\n",
      " 1.97253448e+08 2.02246943e+08 2.07366849e+08 2.12616366e+08\n",
      " 2.17998775e+08 2.23517440e+08 2.29175811e+08 2.34977424e+08\n",
      " 2.40925906e+08 2.47024974e+08 2.53278441e+08 2.59690216e+08\n",
      " 2.66264305e+08 2.73004818e+08 2.79915967e+08 2.87002074e+08\n",
      " 2.94267566e+08 3.01716985e+08 3.09354987e+08 3.17186346e+08\n",
      " 3.25215956e+08 3.33448837e+08 3.41890135e+08 3.50545125e+08\n",
      " 3.59419217e+08 3.68517958e+08 3.77847034e+08 3.87412277e+08\n",
      " 3.97219666e+08 4.07275330e+08 4.17585554e+08 4.28156782e+08\n",
      " 4.38995623e+08 4.50108850e+08 4.61503410e+08 4.73186424e+08\n",
      " 4.85165195e+08 4.97447211e+08 5.10040147e+08 5.22951875e+08\n",
      " 5.36190464e+08 5.49764191e+08 5.63681537e+08 5.77951203e+08\n",
      " 5.92582108e+08 6.07583395e+08 6.22964442e+08 6.38734862e+08\n",
      " 6.54904512e+08 6.71483499e+08 6.88482185e+08 7.05911194e+08\n",
      " 7.23781421e+08 7.42104035e+08 7.60890488e+08 7.80152522e+08\n",
      " 7.99902177e+08 8.20151798e+08 8.40914039e+08 8.62201879e+08\n",
      " 8.84028624e+08 9.06407915e+08 9.29353741e+08 9.52880443e+08\n",
      " 9.77002726e+08 1.00173567e+09 1.02709473e+09 1.05309575e+09\n",
      " 1.07975500e+09 1.10708913e+09 1.13511522e+09 1.16385080e+09\n",
      " 1.19331382e+09 1.22352271e+09 1.25449633e+09 1.28625406e+09\n",
      " 1.31881573e+09 1.35220171e+09 1.38643286e+09 1.42153058e+09\n",
      " 1.45751680e+09 1.49441401e+09 1.53224528e+09 1.57103425e+09\n",
      " 1.61080518e+09 1.65158290e+09 1.69339292e+09 1.73626137e+09\n",
      " 1.78021503e+09 1.82528139e+09 1.87148861e+09 1.91886557e+09\n",
      " 1.96744188e+09 2.01724791e+09 2.06831479e+09 2.12067442e+09\n",
      " 2.17435955e+09 2.22940373e+09 2.28584135e+09 2.34370770e+09\n",
      " 2.40303894e+09 2.46387216e+09 2.52624539e+09 2.59019759e+09\n",
      " 2.65576876e+09 2.72299986e+09 2.79193293e+09 2.86261105e+09\n",
      " 2.93507839e+09 3.00938026e+09 3.08556308e+09 3.16367448e+09\n",
      " 3.24376328e+09 3.32587954e+09 3.41007458e+09 3.49640103e+09\n",
      " 3.58491285e+09 3.67566535e+09 3.76871526e+09 3.86412074e+09\n",
      " 3.96194142e+09 4.06223845e+09 4.16507450e+09 4.27051386e+09\n",
      " 4.37862244e+09 4.48946779e+09 4.60311921e+09 4.71964773e+09\n",
      " 4.83912618e+09 4.96162924e+09 5.08723348e+09 5.21601741e+09\n",
      " 5.34806152e+09 5.48344834e+09 5.62226250e+09 5.76459075e+09\n",
      " 5.91052206e+09 6.06014764e+09 6.21356101e+09 6.37085806e+09\n",
      " 6.53213709e+09 6.69749893e+09 6.86704693e+09 7.04088705e+09\n",
      " 7.21912795e+09 7.40188104e+09 7.58926055e+09 7.78138360e+09\n",
      " 7.97837026e+09 8.18034367e+09 8.38743005e+09 8.59975886e+09\n",
      " 8.81746279e+09 9.04067792e+09 9.26954377e+09 9.50420339e+09\n",
      " 9.74480345e+09 9.99149432e+09 1.02444302e+10 1.05037692e+10\n",
      " 1.07696734e+10 1.10423090e+10 1.13218463e+10 1.16084602e+10\n",
      " 1.19023298e+10 1.22036387e+10 1.25125753e+10 1.28293327e+10\n",
      " 1.31541088e+10 1.34871066e+10 1.38285343e+10 1.41786054e+10\n",
      " 1.45375385e+10 1.49055580e+10 1.52828940e+10 1.56697823e+10\n",
      " 1.60664647e+10 1.64731892e+10 1.68902100e+10 1.73177877e+10\n",
      " 1.77561896e+10 1.82056896e+10 1.86665689e+10 1.91391153e+10\n",
      " 1.96236243e+10 2.01203987e+10 2.06297491e+10 2.11519936e+10\n",
      " 2.16874589e+10 2.22364795e+10 2.27993987e+10 2.33765682e+10\n",
      " 2.39683489e+10 2.45751105e+10 2.51972324e+10 2.58351034e+10\n",
      " 2.64891221e+10 2.71596974e+10 2.78472485e+10 2.85522049e+10\n",
      " 2.92750074e+10 3.00161078e+10 3.07759692e+10 3.15550665e+10\n",
      " 3.23538868e+10 3.31729294e+10 3.40127061e+10 3.48737418e+10\n",
      " 3.57565748e+10 3.66617568e+10 3.75898536e+10 3.85414453e+10\n",
      " 3.95171266e+10 4.05175074e+10 4.15432130e+10 4.25948845e+10\n",
      " 4.36731791e+10 4.47787709e+10 4.59123509e+10 4.70746276e+10\n",
      " 4.82663274e+10 4.94881953e+10 5.07409950e+10 5.20255094e+10\n",
      " 5.33425414e+10 5.46929143e+10 5.60774720e+10 5.74970800e+10\n",
      " 5.89526255e+10 6.04450183e+10 6.19751912e+10 6.35441006e+10\n",
      " 6.51527272e+10 6.68020763e+10 6.84931790e+10 7.02270920e+10]\n"
     ]
    }
   ],
   "source": [
    "exponente = t*0.25\n",
    "\n",
    "arreglo_exponencial = np.exp(exponente)*1\n",
    "print(f\"Tamaño del arreglo N: {len(arreglo_exponencial)}. Contenido del arreglo\\n{arreglo_exponencial}\")"
   ],
   "metadata": {
    "collapsed": false,
    "pycharm": {
     "name": "#%%\n"
    }
   }
  },
  {
   "cell_type": "markdown",
   "source": [
    "- Guardando en csv."
   ],
   "metadata": {
    "collapsed": false
   }
  },
  {
   "cell_type": "code",
   "execution_count": 30,
   "outputs": [],
   "source": [
    "#Guardado del resultado en un archivo csv\n",
    "dataframe_final = {\n",
    "    \"Años\": t,\n",
    "    \"Crecimiento\": arreglo_exponencial\n",
    "}\n",
    "datos_exportar = pd.DataFrame(data=dataframe_final)\n",
    "datos_exportar.index.name = \"Registro\"\n",
    "datos_exportar.to_csv(\"crecimiento_poblacional.csv\")"
   ],
   "metadata": {
    "collapsed": false,
    "pycharm": {
     "name": "#%%\n"
    }
   }
  },
  {
   "cell_type": "markdown",
   "source": [
    "- Creando el gráfico"
   ],
   "metadata": {
    "collapsed": false
   }
  },
  {
   "cell_type": "code",
   "execution_count": 31,
   "outputs": [
    {
     "data": {
      "text/plain": "<Figure size 432x288 with 1 Axes>",
      "image/png": "[encoded data removed]"
     },
     "metadata": {
      "needs_background": "light"
     },
     "output_type": "display_data"
    }
   ],
   "source": [
    "#Creación de gráfico\n",
    "datos_exportar.plot(kind=\"line\", x=\"Años\", y=\"Crecimiento\")\n",
    "plt.show()"
   ],
   "metadata": {
    "collapsed": false,
    "pycharm": {
     "name": "#%%\n"
    }
   }
  },
  {
   "cell_type": "markdown",
   "source": [
    "- Leer el archivo con pandas y mostrar el contenido."
   ],
   "metadata": {
    "collapsed": false
   }
  },
  {
   "cell_type": "code",
   "execution_count": 34,
   "outputs": [
    {
     "name": "stdout",
     "output_type": "stream",
     "text": [
      "0      1.000000e+00\n",
      "1      1.025315e+00\n",
      "2      1.051271e+00\n",
      "3      1.077884e+00\n",
      "4      1.105171e+00\n",
      "           ...     \n",
      "995    6.354410e+10\n",
      "996    6.515273e+10\n",
      "997    6.680208e+10\n",
      "998    6.849318e+10\n",
      "999    7.022709e+10\n",
      "Name: Crecimiento, Length: 1000, dtype: float64\n",
      "\n",
      "0       0.0\n",
      "1       0.1\n",
      "2       0.2\n",
      "3       0.3\n",
      "4       0.4\n",
      "       ... \n",
      "995    99.5\n",
      "996    99.6\n",
      "997    99.7\n",
      "998    99.8\n",
      "999    99.9\n",
      "Name: Años, Length: 1000, dtype: float64\n"
     ]
    }
   ],
   "source": [
    "#Leer archivo con pandas e imprimir dataset\n",
    "archivo_pd = pd.read_csv(\"crecimiento_poblacional.csv\")\n",
    "print(f\"{archivo_pd['Crecimiento']}\\n\")\n",
    "print(archivo_pd[\"Años\"])"
   ],
   "metadata": {
    "collapsed": false,
    "pycharm": {
     "name": "#%%\n"
    }
   }
  }
 ],
 "metadata": {
  "kernelspec": {
   "display_name": "Python 3",
   "language": "python",
   "name": "python3"
  },
  "language_info": {
   "codemirror_mode": {
    "name": "ipython",
    "version": 2
   },
   "file_extension": ".py",
   "mimetype": "text/x-python",
   "name": "python",
   "nbconvert_exporter": "python",
   "pygments_lexer": "ipython2",
   "version": "2.7.6"
  }
 },
 "nbformat": 4,
 "nbformat_minor": 0
}