{
 "cells": [
  {
   "cell_type": "markdown",
   "source": [
    "Tarea de actividad 5\n",
    "\n",
    "Zen de Python"
   ],
   "metadata": {
    "collapsed": false
   }
  },
  {
   "cell_type": "code",
   "execution_count": 11,
   "outputs": [
    {
     "name": "stdout",
     "output_type": "stream",
     "text": [
      "El Zen de Python, por Tim Peters\n",
      "Hermoso es mejor que feo.\n",
      "Explícito es mejor que implícito.\n",
      "Simple es mejor que complejo.\n",
      "Complejo es mejos que complicado.\n",
      "Plano es mejor que anidado.\n",
      "Escaso es mejor que denso.\n",
      "La legibilidad es importante.\n",
      "Los casos especiales no son lo suficientemente especiales para romper las reglas.\n",
      "Aunque la practicidad vence a la belleza.\n",
      "Los errores no deben pasar de forma silenciosa.\n",
      "A menos que sean explícitamente silenciados.\n",
      "Si hay una ambigüedad, evitar la tentación de adivinar.\n",
      "Debe existir una -- y de preferencia solo una -- forma obvia de hacerlo.\n",
      "Aunque esa forma no puede resultar obvia al principio a menos que seas holandés.\n",
      "Ahora es mejor que nunca.\n",
      "Aunque nunca es usualmente mejor que inmediatamente.\n",
      "Si la implementación es difícil de explicar, es una mala idea.\n",
      "Si la implementación es fácil de explicar, puede ser una buena idea.\n",
      "Los espacios de nombres son una gran idea, ¡hagamos más!\n"
     ]
    }
   ],
   "source": [
    "zen_python = '''El Zen de Python, por Tim Peters\n",
    "Hermoso es mejor que feo.\n",
    "Explícito es mejor que implícito.\n",
    "Simple es mejor que complejo.\n",
    "Complejo es mejos que complicado.\n",
    "Plano es mejor que anidado.\n",
    "Escaso es mejor que denso.\n",
    "La legibilidad es importante.\n",
    "Los casos especiales no son lo suficientemente especiales para romper las reglas.\n",
    "Aunque la practicidad vence a la belleza.\n",
    "Los errores no deben pasar de forma silenciosa.\n",
    "A menos que sean explícitamente silenciados.\n",
    "Si hay una ambigüedad, evitar la tentación de adivinar.\n",
    "Debe existir una -- y de preferencia solo una -- forma obvia de hacerlo.\n",
    "Aunque esa forma no puede resultar obvia al principio a menos que seas holandés.\n",
    "Ahora es mejor que nunca.\n",
    "Aunque nunca es usualmente mejor que inmediatamente.\n",
    "Si la implementación es difícil de explicar, es una mala idea.\n",
    "Si la implementación es fácil de explicar, puede ser una buena idea.\n",
    "Los espacios de nombres son una gran idea, ¡hagamos más!'''\n",
    "\n",
    "print(zen_python)"
   ],
   "metadata": {
    "collapsed": false,
    "pycharm": {
     "name": "#%%\n"
    }
   }
  },
  {
   "cell_type": "markdown",
   "source": [
    "Calculadora de tiempo"
   ],
   "metadata": {
    "collapsed": false
   }
  },
  {
   "cell_type": "code",
   "execution_count": 12,
   "outputs": [
    {
     "name": "stdout",
     "output_type": "stream",
     "text": [
      "Los segundos por hora son: 3600\n",
      "Los segundos por día son: 86400\n",
      "La división flotante de segundos por dia y hora es: 24.0\n",
      "La división entera de segundos por día y hora es: 24\n"
     ]
    }
   ],
   "source": [
    "#60 segundos por 60 minutos\n",
    "segundos_por_hora = 60*60\n",
    "\n",
    "#24 horas en un día\n",
    "segundos_por_dia = segundos_por_hora * 24\n",
    "\n",
    "division_flotante = segundos_por_dia / segundos_por_hora\n",
    "\n",
    "division_entera = segundos_por_dia // segundos_por_hora\n",
    "\n",
    "print(f\"Los segundos por hora son: {str(segundos_por_hora)}\")\n",
    "print(f\"Los segundos por día son: {str(segundos_por_dia)}\")\n",
    "print(f\"La división flotante de segundos por dia y hora es: {str(division_flotante)}\")\n",
    "print(f\"La división entera de segundos por día y hora es: {str(division_entera)}\")"
   ],
   "metadata": {
    "collapsed": false,
    "pycharm": {
     "name": "#%%\n"
    }
   }
  }
 ],
 "metadata": {
  "kernelspec": {
   "display_name": "Python 3",
   "language": "python",
   "name": "python3"
  },
  "language_info": {
   "codemirror_mode": {
    "name": "ipython",
    "version": 2
   },
   "file_extension": ".py",
   "mimetype": "text/x-python",
   "name": "python",
   "nbconvert_exporter": "python",
   "pygments_lexer": "ipython2",
   "version": "2.7.6"
  }
 },
 "nbformat": 4,
 "nbformat_minor": 0
}