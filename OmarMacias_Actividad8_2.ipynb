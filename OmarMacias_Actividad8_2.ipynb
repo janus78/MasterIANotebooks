{
 "cells": [
  {
   "cell_type": "markdown",
   "metadata": {
    "collapsed": true,
    "pycharm": {
     "name": "#%% md\n"
    }
   },
   "source": [
    "# **Actividad 8 Parte 2**\n",
    "\n",
    "## Instrucciones\n",
    "\n",
    "* Importa la librería Pandas a tu proyecto.\n",
    "* Genera un diccionario con al menos 10 elementos, donde las estructuras llave-valor correspondan a diferentes ciudades de México con su respectiva densidad de población (ejemplo: Guadalajara: 1,521,741).\n",
    "* Genera una Series a partir del diccionario anterior.\n",
    "* Incluye tres nuevos índices dentro de la Series, correspondientes a otras ciudades de México, y verifica que Pandas autocompletó los campos con los valores “NaN” para mantener el ajuste del arreglo.\n",
    "* Finalmente, elige alguna de las herramientas de visualización vistas en clase y realiza la gráfica de los datos."
   ]
  },
  {
   "cell_type": "code",
   "execution_count": null,
   "outputs": [],
   "source": [
    "import pandas as pd\n",
    "import seaborn as sns\n",
    "import matplotlib.pyplot as plt\n",
    "\n",
    "#indices para la serie de pandas\n",
    "indices_ciudades = [\"Aguascalientes\", \"Jalisco\", \"CDMX\", \"Guanajuato\", \"Sinaloa\",\n",
    "                    \"Yucatan\", \"Oaxaca\", \"Zacatecas\", \"Durango\", \"Colima\",\n",
    "                    \"Chihuahua\", \"Campeche\"]\n",
    "\n",
    "#datos densidad de población habitantes/Km^2, año 2020\n",
    "#http://cuentame.inegi.org.mx/monografias/informacion/jal/poblacion/densidad.aspx?tema=me&e=14\n",
    "\n",
    "densidad_poblacion_ciudades = {\n",
    "    \"Aguascalientes\": 254,\n",
    "    \"Jalisco\": 106,\n",
    "    \"CDMX\": 6163,\n",
    "    \"Guanajuato\": 201,\n",
    "    \"Sinaloa\": 53,\n",
    "    \"Yucatan\": 59,\n",
    "    \"Oaxaca\": 44,\n",
    "    \"Zacatecas\": 22,\n",
    "    \"Durango\": 15,\n",
    "    \"Colima\":130,\n",
    "}\n",
    "\n",
    "#generar serie de pandas a partir del diccionario\n",
    "serie_estados = pd.Series(densidad_poblacion_ciudades, index=indices_ciudades)\n",
    "df_estados = serie_estados.to_frame(name=\"Densidad\")\n",
    "print(df_estados)\n",
    "#Gráfica de datos\n",
    "sns.set_theme()\n",
    "grafica = sns.barplot(data = df_estados.reset_index(), x=\"index\", y=\"Densidad\")\n",
    "grafica.set(xlabel=\"Estados\", ylabel=\"Densidad (Hab/Km cuadrado)\", title=\"Densidad de población por estado\")\n",
    "grafica.bar_label(grafica.containers[0])\n",
    "grafica.set_xticklabels(grafica.get_xticklabels(), rotation=40, ha=\"right\")\n",
    "plt.show()"
   ],
   "metadata": {
    "collapsed": false,
    "pycharm": {
     "name": "#%%\n"
    }
   }
  }
 ],
 "metadata": {
  "kernelspec": {
   "display_name": "Python 3",
   "language": "python",
   "name": "python3"
  },
  "language_info": {
   "codemirror_mode": {
    "name": "ipython",
    "version": 2
   },
   "file_extension": ".py",
   "mimetype": "text/x-python",
   "name": "python",
   "nbconvert_exporter": "python",
   "pygments_lexer": "ipython2",
   "version": "2.7.6"
  }
 },
 "nbformat": 4,
 "nbformat_minor": 0
}